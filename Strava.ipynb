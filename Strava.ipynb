{
 "cells": [
  {
   "cell_type": "code",
   "execution_count": 1,
   "metadata": {},
   "outputs": [
    {
     "ename": "SyntaxError",
     "evalue": "(unicode error) 'unicodeescape' codec can't decode bytes in position 2-3: truncated \\UXXXXXXXX escape (710753581.py, line 5)",
     "output_type": "error",
     "traceback": [
      "\u001b[1;36m  Cell \u001b[1;32mIn[1], line 5\u001b[1;36m\u001b[0m\n\u001b[1;33m    tree = ET.parse('C:\\Users\\cr-19\\OneDrive - Universidad de Antioquia\\2024-1\\Analítica II\\03 Aprendizaje No Supervisado\\Analitica_2_Proyecto_2\\Notebook.ipynb')\u001b[0m\n\u001b[1;37m                                                                                                                                                                ^\u001b[0m\n\u001b[1;31mSyntaxError\u001b[0m\u001b[1;31m:\u001b[0m (unicode error) 'unicodeescape' codec can't decode bytes in position 2-3: truncated \\UXXXXXXXX escape\n"
     ]
    }
   ],
   "source": [
    "import xml.etree.ElementTree as ET\n",
    "import pandas as pd\n",
    "\n",
    "# Lee el archivo XML\n",
    "tree = ET.parse('C:\\Users\\cr-19\\OneDrive - Universidad de Antioquia\\2024-1\\Analítica II\\03 Aprendizaje No Supervisado\\Analitica_2_Proyecto_2\\Notebook.ipynb')\n",
    "root = tree.getroot()\n",
    "\n",
    "# Define un diccionario para almacenar los datos\n",
    "data = {'lat': [], 'lon': [], 'ele': [], 'time': []}\n",
    "\n",
    "# Itera sobre los elementos trkpt y obtén los datos\n",
    "for trkpt in root.findall('.//{http://www.topografix.com/GPX/1/1}trkpt'):\n",
    "    data['lat'].append(float(trkpt.attrib['lat']))\n",
    "    data['lon'].append(float(trkpt.attrib['lon']))\n",
    "    data['ele'].append(float(trkpt.find('{http://www.topografix.com/GPX/1/1}ele').text))\n",
    "    data['time'].append(trkpt.find('{http://www.topografix.com/GPX/1/1}time').text)\n",
    "\n",
    "# Crea el DataFrame\n",
    "df = pd.DataFrame(data)\n",
    "\n",
    "print(df)\n"
   ]
  }
 ],
 "metadata": {
  "kernelspec": {
   "display_name": "base",
   "language": "python",
   "name": "python3"
  },
  "language_info": {
   "codemirror_mode": {
    "name": "ipython",
    "version": 3
   },
   "file_extension": ".py",
   "mimetype": "text/x-python",
   "name": "python",
   "nbconvert_exporter": "python",
   "pygments_lexer": "ipython3",
   "version": "3.10.9"
  }
 },
 "nbformat": 4,
 "nbformat_minor": 2
}
